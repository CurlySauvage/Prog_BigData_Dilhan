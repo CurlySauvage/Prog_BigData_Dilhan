{
 "cells": [
  {
   "cell_type": "code",
   "execution_count": 187,
   "id": "c246d27a",
   "metadata": {},
   "outputs": [],
   "source": [
    "import pandas as pd\n",
    "import numpy as np\n",
    "import matplotlib.pyplot as plt\n",
    "#https://www.linkedin.com/pulse/creating-dashboard-matplotlib-library-leonardo-a/\n",
    "#http://datos.munimadrid.es/portal/site/egob/menuitem.c05c1f754a33a9fbe4b2e4b284f1a5a0/?vgnextoid=39cddd906cbee510VgnVCM1000001d4a900aRCRD&vgnextchannel=374512b9ace9f310VgnVCM100000171f5a0aRCRD&vgnextfmt=default#"
   ]
  },
  {
   "cell_type": "code",
   "execution_count": 188,
   "id": "8824f402",
   "metadata": {},
   "outputs": [],
   "source": [
    "# Ajout du fichier \n",
    "file2017 = 'Datas/VEHICULOS_PARQUE_MOVIL_2017.csv'\n",
    "file2018 = 'Datas/VEHICULOS_PARQUE_MOVIL_2018.csv'\n",
    "file2019 = 'Datas/VEHICULOS_PARQUE_MOVIL_2019.csv'\n",
    "file2020 = 'Datas/VEHICULOS_PARQUE_MOVIL_2020.csv'\n",
    "file2021 = 'Datas/VEHICULOS_PARQUE_MOVIL_2021.csv'\n",
    "\n",
    "#Variables waiting the main function to be create on main page and called\n",
    "d17 = pd.read_csv(file2017, delimiter=';')\n",
    "d18 = pd.read_csv(file2018, delimiter=';')\n",
    "d19 = pd.read_csv(file2019, delimiter=';')\n",
    "d20 = pd.read_csv(file2020, delimiter=';')\n",
    "d21 = pd.read_csv(file2021, delimiter=';')\n",
    "                  \n",
    "\n",
    "\n",
    "\n",
    "\n",
    "#d18 = pd.read_csv(file2018, delimiter=';')\n",
    "#d17 = pd.read_csv(file, delimiter=';', usecols = ['id','direccion','longitud','latitud'])\n",
    "\n",
    "\n",
    "\n",
    "#print(d18.shape)\n",
    "#print(d17.columns)\n",
    "#print(d18.columns)\n",
    "#print(d18.info())\n"
   ]
  },
  {
   "cell_type": "code",
   "execution_count": 189,
   "id": "866b306e",
   "metadata": {},
   "outputs": [],
   "source": [
    "d17step = d17.drop_duplicates()\n",
    "d18step = d18.drop_duplicates()\n",
    "d19step = d19.drop_duplicates()\n",
    "d20step = d20.drop_duplicates()\n",
    "d21step = d21.drop_duplicates()"
   ]
  },
  {
   "cell_type": "code",
   "execution_count": 190,
   "id": "db0c42c6",
   "metadata": {},
   "outputs": [],
   "source": [
    "#print(d17step['ENERG�A/COMBUSTIBLE'].tolist())"
   ]
  },
  {
   "cell_type": "code",
   "execution_count": 191,
   "id": "f81c351b",
   "metadata": {},
   "outputs": [],
   "source": [
    "#convertir les données 2017-18-19 pour mettre a jour noms\n",
    "def updatedataBefore2020(datas):\n",
    "    dataTab = datas.rename(columns={'ENERG�A/COMBUSTIBLE': 'ENERGÍA/COMBUSTIBLE', 'N� MPAL': 'Nº MPAL'})\n",
    "    return dataTab\n",
    "\n",
    "def updateValuesBefore2020(datas):\n",
    "\n",
    "    dataValues = datas['ENERGÍA/COMBUSTIBLE'].replace(['EL�CTRICO','GASOLINA / HIBRIDO','EL�CTRICO / H�BRIDO'],['ELÉCTRICO','GASOLINA/HIBRIDO','ELÉCTRICO / HÍBRIDO'])\n",
    "    \n",
    "    return dataValues\n",
    "\n",
    "\n",
    "def updateValuesStart2020(datas):\n",
    "\n",
    "    dataValues = datas['ENERGÍA/COMBUSTIBLE'].replace(['DIESEL'],['DIESEL'])\n",
    "    \n",
    "    return dataValues"
   ]
  },
  {
   "cell_type": "code",
   "execution_count": 192,
   "id": "c73a90b9",
   "metadata": {},
   "outputs": [
    {
     "name": "stdout",
     "output_type": "stream",
     "text": [
      "GASOLINA               770\n",
      "DIESEL                 561\n",
      "ELÉCTRICO              351\n",
      "GASOLINA/HIBRIDO       305\n",
      "GNC                    124\n",
      "DIESEL                 113\n",
      "ELÉCTRICO / HÍBRIDO     29\n",
      "GASOLINA / GLP          21\n",
      "R.                       8\n",
      "Name: ENERGÍA/COMBUSTIBLE, dtype: int64\n"
     ]
    }
   ],
   "source": [
    "d17Tab = updatedataBefore2020(d17step)\n",
    "d17Clean = updateValuesBefore2020(d17Tab).value_counts()\n",
    "\n",
    "\n",
    "d18Tab = updatedataBefore2020(d18step)\n",
    "d18Clean = updateValuesBefore2020(d18Tab).value_counts()\n",
    "\n",
    "\n",
    "d19Tab = updatedataBefore2020(d19step)\n",
    "d19Clean = updateValuesBefore2020(d19Tab).value_counts()\n",
    "\n",
    "\n",
    "d20Clean = updateValuesBefore2020(d20step).value_counts()\n",
    "d21Clean = updateValuesBefore2020(d21step).value_counts()\n",
    "\n",
    "print(d20Clean)\n",
    "\n",
    "\n",
    "\n",
    "\n",
    "\n",
    "\n",
    "\n"
   ]
  },
  {
   "cell_type": "code",
   "execution_count": 193,
   "id": "ae893ee7",
   "metadata": {},
   "outputs": [
    {
     "name": "stdout",
     "output_type": "stream",
     "text": [
      "                         ENERGÍA/COMBUSTIBLE  ENERGÍA/COMBUSTIBLE  \\\n",
      "GASOLINA                              1099.0               1050.0   \n",
      "DIESEL                                 867.0                725.0   \n",
      "GASOLINA/HIBRIDO                        85.0                 22.0   \n",
      "GASOLINA / GLP                          84.0                  1.0   \n",
      "ELÉCTRICO                               47.0                133.0   \n",
      "R.                                       7.0                  7.0   \n",
      "GNC                                      NaN                113.0   \n",
      "GASOLINA/GNC                             NaN                  1.0   \n",
      "ELÉCTRICO / HÍBRIDO                      NaN                  NaN   \n",
      "DIESEL                                   NaN                  NaN   \n",
      "GAS NATURAL COMPRIMIDO                   NaN                  NaN   \n",
      "ELÉCTRICO/GASOLINA                       NaN                  NaN   \n",
      "GAS LICUADO DE PETROLEO                  NaN                  NaN   \n",
      "No precisa                               NaN                  NaN   \n",
      "\n",
      "                         ENERGÍA/COMBUSTIBLE  ENERGÍA/COMBUSTIBLE  \\\n",
      "GASOLINA                               793.0                770.0   \n",
      "DIESEL                                 693.0                113.0   \n",
      "GASOLINA/HIBRIDO                       300.0                305.0   \n",
      "GASOLINA / GLP                          21.0                 21.0   \n",
      "ELÉCTRICO                              305.0                351.0   \n",
      "R.                                       8.0                  8.0   \n",
      "GNC                                    124.0                124.0   \n",
      "GASOLINA/GNC                             NaN                  NaN   \n",
      "ELÉCTRICO / HÍBRIDO                     29.0                 29.0   \n",
      "DIESEL                                   NaN                561.0   \n",
      "GAS NATURAL COMPRIMIDO                   NaN                  NaN   \n",
      "ELÉCTRICO/GASOLINA                       NaN                  NaN   \n",
      "GAS LICUADO DE PETROLEO                  NaN                  NaN   \n",
      "No precisa                               NaN                  NaN   \n",
      "\n",
      "                         ENERGÍA/COMBUSTIBLE  \n",
      "GASOLINA                              1043.0  \n",
      "DIESEL                                 680.0  \n",
      "GASOLINA/HIBRIDO                         NaN  \n",
      "GASOLINA / GLP                           NaN  \n",
      "ELÉCTRICO                              368.0  \n",
      "R.                                       NaN  \n",
      "GNC                                      NaN  \n",
      "GASOLINA/GNC                             NaN  \n",
      "ELÉCTRICO / HÍBRIDO                      NaN  \n",
      "DIESEL                                   NaN  \n",
      "GAS NATURAL COMPRIMIDO                 160.0  \n",
      "ELÉCTRICO/GASOLINA                      40.0  \n",
      "GAS LICUADO DE PETROLEO                 21.0  \n",
      "No precisa                               8.0  \n"
     ]
    }
   ],
   "source": [
    "# fusion consomation energy\n",
    "Test = pd.concat([d17Clean,d18Clean, d19Clean, d20Clean, d21Clean], axis=1)\n",
    "print(Test)"
   ]
  },
  {
   "cell_type": "code",
   "execution_count": 194,
   "id": "fde12481",
   "metadata": {},
   "outputs": [],
   "source": [
    "#TypeConso17 = d17Clean.groupby('ENERGÍA/COMBUSTIBLE')['Nº MPAL'].nunique()\n",
    "#TypeConso18 = d18Clean.groupby('ENERGÍA/COMBUSTIBLE')['Nº MPAL'].nunique()\n",
    "#TypeConso19 = d19Clean.groupby('ENERGÍA/COMBUSTIBLE')['Nº MPAL'].nunique()\n",
    "#TypeConso20 = d20Clean.groupby('ENERGÍA/COMBUSTIBLE')['Nº MPAL'].nunique()\n",
    "#TypeConso21 = d21Clean.groupby('ENERGÍA/COMBUSTIBLE')['Nº MPAL'].nunique()\n"
   ]
  },
  {
   "cell_type": "code",
   "execution_count": 169,
   "id": "6d8b3c33",
   "metadata": {},
   "outputs": [
    {
     "name": "stdout",
     "output_type": "stream",
     "text": [
      "AxesSubplot(0.125,0.125;0.775x0.755)\n"
     ]
    },
    {
     "data": {
      "image/png": "[encoded data removed]",
      "text/plain": [
       "<Figure size 1080x720 with 1 Axes>"
      ]
     },
     "metadata": {
      "needs_background": "light"
     },
     "output_type": "display_data"
    }
   ],
   "source": [
    "#TotalConso = pd.concat([TypeConso17,TypeConso18, TypeConso19, TypeConso20, TypeConso21], axis=1)\n",
    "#print (TypeConso17)\n",
    "#print (TypeConso20)\n",
    "chartTotal = Test.plot.bar(figsize=(15,10));\n",
    "\n",
    "print(chartTotal)"
   ]
  },
  {
   "cell_type": "code",
   "execution_count": null,
   "id": "9a7478fe",
   "metadata": {},
   "outputs": [],
   "source": []
  },
  {
   "cell_type": "code",
   "execution_count": null,
   "id": "870321a7",
   "metadata": {},
   "outputs": [],
   "source": []
  }
 ],
 "metadata": {
  "kernelspec": {
   "display_name": "Python 3",
   "language": "python",
   "name": "python3"
  },
  "language_info": {
   "codemirror_mode": {
    "name": "ipython",
    "version": 3
   },
   "file_extension": ".py",
   "mimetype": "text/x-python",
   "name": "python",
   "nbconvert_exporter": "python",
   "pygments_lexer": "ipython3",
   "version": "3.8.8"
  }
 },
 "nbformat": 4,
 "nbformat_minor": 5
}
