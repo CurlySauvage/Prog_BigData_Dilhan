{
 "cells": [
  {
   "cell_type": "markdown",
   "id": "f7cff0aa",
   "metadata": {},
   "source": [
    "# Consumo y generation energia Ayutamiento de Madrid\n",
    "\n",
    "With this set I'm gonna try to analyse the differences between the 3 years en the mayor of Madrid.\n"
   ]
  },
  {
   "cell_type": "code",
   "execution_count": 74,
   "id": "8cacd8af",
   "metadata": {},
   "outputs": [],
   "source": [
    "import pandas as pd\n",
    "import numpy as np\n",
    "import matplotlib.pyplot as plt\n",
    "from pathlib import Path"
   ]
  },
  {
   "cell_type": "code",
   "execution_count": 75,
   "id": "a6f71036",
   "metadata": {},
   "outputs": [],
   "source": [
    "File = 'Datas/CONSUMO Y GENERACIÓN_energía_Ayuntamiento de Madrid_2020.xlsx'\n",
    "src_file = Path.cwd() /  'Datas/CONSUMO Y GENERACIÓN_energía_Ayuntamiento de Madrid_2020.xlsx'\n",
    "\n",
    "df1t = pd.read_excel(src_file, header=1, usecols='B:I')\n",
    "\n"
   ]
  },
  {
   "cell_type": "markdown",
   "id": "75d965cd",
   "metadata": {},
   "source": [
    "## I would like to know the sum of Consumida / year y also Generada"
   ]
  },
  {
   "cell_type": "code",
   "execution_count": 76,
   "id": "b0249a68",
   "metadata": {},
   "outputs": [
    {
     "data": {
      "text/plain": [
       "600842034.3272165"
      ]
     },
     "execution_count": 76,
     "metadata": {},
     "output_type": "execute_result"
    }
   ],
   "source": [
    "Con2018 = df1t.loc[(df1t['AÑO'] == 2018) & (df1t['CLASE'] == \"Consumida\"), 'CANTIDAD'].sum()\n",
    "Con2019 = df1t.loc[(df1t['AÑO'] == 2019) & (df1t['CLASE'] == \"Consumida\"), 'CANTIDAD'].sum()\n",
    "Con2020 = df1t.loc[(df1t['AÑO'] == 2020) & (df1t['CLASE'] == \"Consumida\"), 'CANTIDAD'].sum()\n",
    "\n",
    "\n",
    "Gene2018 = df1t.loc[(df1t['AÑO'] == 2018) & (df1t['CLASE'] == \"Generada\"), 'CANTIDAD'].sum()\n",
    "Gene2019 = df1t.loc[(df1t['AÑO'] == 2019) & (df1t['CLASE'] == \"Generada\"), 'CANTIDAD'].sum()\n",
    "Gene2020 = df1t.loc[(df1t['AÑO'] == 2020) & (df1t['CLASE'] == \"Generada\"), 'CANTIDAD'].sum()\n",
    "\n",
    "\n",
    "Con2018"
   ]
  },
  {
   "cell_type": "code",
   "execution_count": 77,
   "id": "642d23b1",
   "metadata": {},
   "outputs": [
    {
     "data": {
      "text/html": [
       "<div>\n",
       "<style scoped>\n",
       "    .dataframe tbody tr th:only-of-type {\n",
       "        vertical-align: middle;\n",
       "    }\n",
       "\n",
       "    .dataframe tbody tr th {\n",
       "        vertical-align: top;\n",
       "    }\n",
       "\n",
       "    .dataframe thead th {\n",
       "        text-align: right;\n",
       "    }\n",
       "</style>\n",
       "<table border=\"1\" class=\"dataframe\">\n",
       "  <thead>\n",
       "    <tr style=\"text-align: right;\">\n",
       "      <th></th>\n",
       "      <th>Consomation</th>\n",
       "      <th>Creation</th>\n",
       "      <th>Year</th>\n",
       "    </tr>\n",
       "  </thead>\n",
       "  <tbody>\n",
       "    <tr>\n",
       "      <th>0</th>\n",
       "      <td>6.008420e+08</td>\n",
       "      <td>3.993473e+08</td>\n",
       "      <td>2018</td>\n",
       "    </tr>\n",
       "    <tr>\n",
       "      <th>1</th>\n",
       "      <td>6.068354e+08</td>\n",
       "      <td>4.159540e+08</td>\n",
       "      <td>2019</td>\n",
       "    </tr>\n",
       "    <tr>\n",
       "      <th>2</th>\n",
       "      <td>5.721565e+08</td>\n",
       "      <td>4.183610e+08</td>\n",
       "      <td>2020</td>\n",
       "    </tr>\n",
       "  </tbody>\n",
       "</table>\n",
       "</div>"
      ],
      "text/plain": [
       "    Consomation      Creation  Year\n",
       "0  6.008420e+08  3.993473e+08  2018\n",
       "1  6.068354e+08  4.159540e+08  2019\n",
       "2  5.721565e+08  4.183610e+08  2020"
      ]
     },
     "execution_count": 77,
     "metadata": {},
     "output_type": "execute_result"
    }
   ],
   "source": [
    "d = {'Consomation': [Con2018, Con2019, Con2020], 'Creation': [Gene2018, Gene2019, Gene2020], 'Year': [2018, 2019, 2020]}\n",
    "DataF = pd.DataFrame(data=d)\n",
    "DataF"
   ]
  },
  {
   "cell_type": "code",
   "execution_count": 78,
   "id": "ccbba28d",
   "metadata": {},
   "outputs": [
    {
     "data": {
      "image/png": "[encoded data removed]",
      "text/plain": [
       "<Figure size 432x288 with 1 Axes>"
      ]
     },
     "metadata": {
      "needs_background": "light"
     },
     "output_type": "display_data"
    }
   ],
   "source": [
    "DataF.plot(x=\"Year\",y=[\"Consomation\", \"Creation\"], kind=\"bar\");"
   ]
  },
  {
   "cell_type": "markdown",
   "id": "7b4a8544",
   "metadata": {},
   "source": [
    "## Trying the Pivot"
   ]
  },
  {
   "cell_type": "code",
   "execution_count": 79,
   "id": "59f19f73",
   "metadata": {},
   "outputs": [
    {
     "data": {
      "text/plain": [
       "Parque Tecnológico de Valdemingómez    24\n",
       "Edificios y Centros                    18\n",
       "Parque móvil                           12\n",
       "Parques y viveros                      12\n",
       "Alumbrado e instalaciones               3\n",
       "Name: ÁMBITO 1, dtype: int64"
      ]
     },
     "execution_count": 79,
     "metadata": {},
     "output_type": "execute_result"
    }
   ],
   "source": [
    "df1t[\"ÁMBITO 1\"].value_counts()"
   ]
  },
  {
   "cell_type": "code",
   "execution_count": null,
   "id": "17b7cc98",
   "metadata": {},
   "outputs": [],
   "source": []
  },
  {
   "cell_type": "markdown",
   "id": "f2ee3a21",
   "metadata": {},
   "source": [
    "## Pire consomateur de l'année"
   ]
  },
  {
   "cell_type": "code",
   "execution_count": 80,
   "id": "55820048",
   "metadata": {},
   "outputs": [],
   "source": [
    "ParqueTec = df1t.loc[(df1t['AÑO'] == 2018) & (df1t[\"ÁMBITO 1\"] == \"Parque Tecnológico de Valdemingómez\") & (df1t[\"CLASE\"] == \"Consumida\"), 'CANTIDAD'].sum()\n",
    "PEdif = df1t.loc[(df1t['AÑO'] == 2018) & (df1t[\"ÁMBITO 1\"] == \"Edificios y Centros\") & (df1t[\"CLASE\"] == \"Consumida\"), 'CANTIDAD'].sum()\n",
    "ParqueMov = df1t.loc[(df1t['AÑO'] == 2018) & (df1t[\"ÁMBITO 1\"] == \"Parque móvil\") & (df1t[\"CLASE\"] == \"Consumida\"), 'CANTIDAD'].sum()\n",
    "ParqueVive = df1t.loc[(df1t['AÑO'] == 2018) & (df1t[\"ÁMBITO 1\"] == \"Parques y viveros\") & (df1t[\"CLASE\"] == \"Consumida\"), 'CANTIDAD'].sum()\n",
    "Alum = df1t.loc[(df1t['AÑO'] == 2018) & (df1t[\"ÁMBITO 1\"] == \"Alumbrado e instalaciones\") & (df1t[\"CLASE\"] == \"Consumida\"), 'CANTIDAD'].sum()\n",
    "\n",
    "\n",
    "\n"
   ]
  },
  {
   "cell_type": "code",
   "execution_count": 81,
   "id": "b1838167",
   "metadata": {},
   "outputs": [
    {
     "data": {
      "text/html": [
       "<div>\n",
       "<style scoped>\n",
       "    .dataframe tbody tr th:only-of-type {\n",
       "        vertical-align: middle;\n",
       "    }\n",
       "\n",
       "    .dataframe tbody tr th {\n",
       "        vertical-align: top;\n",
       "    }\n",
       "\n",
       "    .dataframe thead th {\n",
       "        text-align: right;\n",
       "    }\n",
       "</style>\n",
       "<table border=\"1\" class=\"dataframe\">\n",
       "  <thead>\n",
       "    <tr style=\"text-align: right;\">\n",
       "      <th></th>\n",
       "      <th>Ambito</th>\n",
       "      <th>Creation</th>\n",
       "    </tr>\n",
       "  </thead>\n",
       "  <tbody>\n",
       "    <tr>\n",
       "      <th>0</th>\n",
       "      <td>Parque Tecnológico de Valdemingómez</td>\n",
       "      <td>1.357984e+08</td>\n",
       "    </tr>\n",
       "    <tr>\n",
       "      <th>1</th>\n",
       "      <td>Edificios y Centros</td>\n",
       "      <td>3.059853e+08</td>\n",
       "    </tr>\n",
       "    <tr>\n",
       "      <th>2</th>\n",
       "      <td>Parque móvil</td>\n",
       "      <td>2.056965e+07</td>\n",
       "    </tr>\n",
       "    <tr>\n",
       "      <th>3</th>\n",
       "      <td>Parques y viveros</td>\n",
       "      <td>4.046087e+06</td>\n",
       "    </tr>\n",
       "    <tr>\n",
       "      <th>4</th>\n",
       "      <td>Alumbrado e instalaciones</td>\n",
       "      <td>1.344426e+08</td>\n",
       "    </tr>\n",
       "  </tbody>\n",
       "</table>\n",
       "</div>"
      ],
      "text/plain": [
       "                                Ambito      Creation\n",
       "0  Parque Tecnológico de Valdemingómez  1.357984e+08\n",
       "1                  Edificios y Centros  3.059853e+08\n",
       "2                         Parque móvil  2.056965e+07\n",
       "3                    Parques y viveros  4.046087e+06\n",
       "4            Alumbrado e instalaciones  1.344426e+08"
      ]
     },
     "execution_count": 81,
     "metadata": {},
     "output_type": "execute_result"
    }
   ],
   "source": [
    "v = {'Ambito': [\"Parque Tecnológico de Valdemingómez\", \"Edificios y Centros\", \"Parque móvil\", \"Parques y viveros\", \"Alumbrado e instalaciones\"], 'Creation': [ParqueTec, PEdif, ParqueMov, ParqueVive, Alum]}\n",
    "Conso2018Separado = pd.DataFrame(data=v)\n",
    "Conso2018Separado"
   ]
  },
  {
   "cell_type": "code",
   "execution_count": null,
   "id": "cfec9ca0",
   "metadata": {},
   "outputs": [],
   "source": []
  }
 ],
 "metadata": {
  "kernelspec": {
   "display_name": "Python 3",
   "language": "python",
   "name": "python3"
  },
  "language_info": {
   "codemirror_mode": {
    "name": "ipython",
    "version": 3
   },
   "file_extension": ".py",
   "mimetype": "text/x-python",
   "name": "python",
   "nbconvert_exporter": "python",
   "pygments_lexer": "ipython3",
   "version": "3.8.8"
  }
 },
 "nbformat": 4,
 "nbformat_minor": 5
}
